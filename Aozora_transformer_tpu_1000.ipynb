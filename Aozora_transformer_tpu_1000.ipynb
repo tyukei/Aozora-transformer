{
  "nbformat": 4,
  "nbformat_minor": 0,
  "metadata": {
    "colab": {
      "provenance": [],
      "gpuType": "V28",
      "authorship_tag": "ABX9TyNjINv2JkIJBspaY3i+bLxG",
      "include_colab_link": true
    },
    "kernelspec": {
      "name": "python3",
      "display_name": "Python 3"
    },
    "language_info": {
      "name": "python"
    },
    "accelerator": "TPU"
  },
  "cells": [
    {
      "cell_type": "markdown",
      "metadata": {
        "id": "view-in-github",
        "colab_type": "text"
      },
      "source": [
        "<a href=\"https://colab.research.google.com/github/tyukei/Aozora-transformer/blob/main/Aozora_transformer_tpu_1000.ipynb\" target=\"_parent\"><img src=\"https://colab.research.google.com/assets/colab-badge.svg\" alt=\"Open In Colab\"/></a>"
      ]
    },
    {
      "cell_type": "code",
      "execution_count": 1,
      "metadata": {
        "colab": {
          "base_uri": "https://localhost:8080/"
        },
        "id": "GC31MQRQ3hUF",
        "outputId": "36a1892e-0af1-4195-a9f7-b34d7731f4be"
      },
      "outputs": [
        {
          "output_type": "stream",
          "name": "stdout",
          "text": [
            "fatal: destination path 'jax-llm' already exists and is not an empty directory.\n",
            "/content/jax-llm\n",
            "Obtaining file:. (from -r requirements.lock (line 10))\n",
            "  Installing build dependencies ... \u001b[?25l\u001b[?25hdone\n",
            "  Checking if build backend supports build_editable ... \u001b[?25l\u001b[?25hdone\n",
            "  Getting requirements to build editable ... \u001b[?25l\u001b[?25hdone\n",
            "  Installing backend dependencies ... \u001b[?25l\u001b[?25hdone\n",
            "  Preparing editable metadata (pyproject.toml) ... \u001b[?25l\u001b[?25hdone\n",
            "Requirement already satisfied: absl-py==2.1.0 in /usr/local/lib/python3.12/dist-packages (from -r requirements.lock (line 11)) (2.1.0)\n",
            "Requirement already satisfied: aiohttp==3.9.5 in /usr/local/lib/python3.12/dist-packages (from -r requirements.lock (line 12)) (3.9.5)\n",
            "Requirement already satisfied: aiosignal==1.3.1 in /usr/local/lib/python3.12/dist-packages (from -r requirements.lock (line 13)) (1.3.1)\n",
            "Requirement already satisfied: asttokens==2.4.1 in /usr/local/lib/python3.12/dist-packages (from -r requirements.lock (line 14)) (2.4.1)\n",
            "Requirement already satisfied: attrs==23.2.0 in /usr/local/lib/python3.12/dist-packages (from -r requirements.lock (line 15)) (23.2.0)\n",
            "Requirement already satisfied: certifi==2024.2.2 in /usr/local/lib/python3.12/dist-packages (from -r requirements.lock (line 16)) (2024.2.2)\n",
            "Requirement already satisfied: charset-normalizer==3.3.2 in /usr/local/lib/python3.12/dist-packages (from -r requirements.lock (line 17)) (3.3.2)\n",
            "Requirement already satisfied: chex==0.1.86 in /usr/local/lib/python3.12/dist-packages (from -r requirements.lock (line 18)) (0.1.86)\n",
            "Requirement already satisfied: click==8.1.7 in /usr/local/lib/python3.12/dist-packages (from -r requirements.lock (line 19)) (8.1.7)\n",
            "Requirement already satisfied: comm==0.2.2 in /usr/local/lib/python3.12/dist-packages (from -r requirements.lock (line 20)) (0.2.2)\n",
            "Requirement already satisfied: contextlib2==21.6.0 in /usr/local/lib/python3.12/dist-packages (from -r requirements.lock (line 21)) (21.6.0)\n",
            "Requirement already satisfied: contourpy==1.2.1 in /usr/local/lib/python3.12/dist-packages (from -r requirements.lock (line 22)) (1.2.1)\n",
            "Requirement already satisfied: cycler==0.12.1 in /usr/local/lib/python3.12/dist-packages (from -r requirements.lock (line 23)) (0.12.1)\n",
            "Requirement already satisfied: datasets==2.19.1 in /usr/local/lib/python3.12/dist-packages (from -r requirements.lock (line 24)) (2.19.1)\n",
            "Requirement already satisfied: debugpy==1.8.1 in /usr/local/lib/python3.12/dist-packages (from -r requirements.lock (line 25)) (1.8.1)\n",
            "Requirement already satisfied: decorator==5.1.1 in /usr/local/lib/python3.12/dist-packages (from -r requirements.lock (line 26)) (5.1.1)\n",
            "Requirement already satisfied: dill==0.3.8 in /usr/local/lib/python3.12/dist-packages (from -r requirements.lock (line 27)) (0.3.8)\n",
            "Requirement already satisfied: docker-pycreds==0.4.0 in /usr/local/lib/python3.12/dist-packages (from -r requirements.lock (line 28)) (0.4.0)\n",
            "Requirement already satisfied: etils==1.8.0 in /usr/local/lib/python3.12/dist-packages (from -r requirements.lock (line 29)) (1.8.0)\n",
            "Requirement already satisfied: executing==2.0.1 in /usr/local/lib/python3.12/dist-packages (from -r requirements.lock (line 30)) (2.0.1)\n",
            "Requirement already satisfied: filelock==3.14.0 in /usr/local/lib/python3.12/dist-packages (from -r requirements.lock (line 31)) (3.14.0)\n",
            "Requirement already satisfied: flax==0.8.3 in /usr/local/lib/python3.12/dist-packages (from -r requirements.lock (line 32)) (0.8.3)\n",
            "Requirement already satisfied: fonttools==4.51.0 in /usr/local/lib/python3.12/dist-packages (from -r requirements.lock (line 33)) (4.51.0)\n",
            "Requirement already satisfied: frozenlist==1.4.1 in /usr/local/lib/python3.12/dist-packages (from -r requirements.lock (line 34)) (1.4.1)\n",
            "Requirement already satisfied: fsspec==2024.3.1 in /usr/local/lib/python3.12/dist-packages (from -r requirements.lock (line 35)) (2024.3.1)\n",
            "Requirement already satisfied: gitdb==4.0.11 in /usr/local/lib/python3.12/dist-packages (from -r requirements.lock (line 36)) (4.0.11)\n",
            "Requirement already satisfied: gitpython==3.1.43 in /usr/local/lib/python3.12/dist-packages (from -r requirements.lock (line 37)) (3.1.43)\n",
            "Requirement already satisfied: huggingface-hub==0.23.0 in /usr/local/lib/python3.12/dist-packages (from -r requirements.lock (line 38)) (0.23.0)\n",
            "Requirement already satisfied: idna==3.7 in /usr/local/lib/python3.12/dist-packages (from -r requirements.lock (line 39)) (3.7)\n",
            "Requirement already satisfied: importlib-resources==6.4.0 in /usr/local/lib/python3.12/dist-packages (from -r requirements.lock (line 40)) (6.4.0)\n",
            "Requirement already satisfied: ipykernel==6.29.4 in /usr/local/lib/python3.12/dist-packages (from -r requirements.lock (line 41)) (6.29.4)\n",
            "Requirement already satisfied: ipython==8.24.0 in /usr/local/lib/python3.12/dist-packages (from -r requirements.lock (line 42)) (8.24.0)\n",
            "Collecting jax==0.4.27 (from -r requirements.lock (line 43))\n",
            "  Using cached jax-0.4.27-py3-none-any.whl.metadata (23 kB)\n",
            "Collecting jaxlib==0.4.27 (from -r requirements.lock (line 44))\n",
            "  Using cached jaxlib-0.4.27-cp312-cp312-manylinux2014_x86_64.whl.metadata (1.8 kB)\n",
            "Requirement already satisfied: jedi==0.19.1 in /usr/local/lib/python3.12/dist-packages (from -r requirements.lock (line 45)) (0.19.1)\n",
            "Requirement already satisfied: jinja2==3.1.4 in /usr/local/lib/python3.12/dist-packages (from -r requirements.lock (line 46)) (3.1.4)\n",
            "Requirement already satisfied: jupyter-client==8.6.1 in /usr/local/lib/python3.12/dist-packages (from -r requirements.lock (line 47)) (8.6.1)\n",
            "Requirement already satisfied: jupyter-core==5.7.2 in /usr/local/lib/python3.12/dist-packages (from -r requirements.lock (line 48)) (5.7.2)\n",
            "Requirement already satisfied: kiwisolver==1.4.5 in /usr/local/lib/python3.12/dist-packages (from -r requirements.lock (line 49)) (1.4.5)\n",
            "Requirement already satisfied: markdown-it-py==3.0.0 in /usr/local/lib/python3.12/dist-packages (from -r requirements.lock (line 50)) (3.0.0)\n",
            "Requirement already satisfied: markupsafe==2.1.5 in /usr/local/lib/python3.12/dist-packages (from -r requirements.lock (line 51)) (2.1.5)\n",
            "Requirement already satisfied: matplotlib==3.8.4 in /usr/local/lib/python3.12/dist-packages (from -r requirements.lock (line 52)) (3.8.4)\n",
            "Requirement already satisfied: matplotlib-inline==0.1.7 in /usr/local/lib/python3.12/dist-packages (from -r requirements.lock (line 53)) (0.1.7)\n",
            "Requirement already satisfied: mdurl==0.1.2 in /usr/local/lib/python3.12/dist-packages (from -r requirements.lock (line 54)) (0.1.2)\n",
            "Requirement already satisfied: ml-collections==0.1.1 in /usr/local/lib/python3.12/dist-packages (from -r requirements.lock (line 55)) (0.1.1)\n",
            "Requirement already satisfied: ml-dtypes==0.3.2 in /usr/local/lib/python3.12/dist-packages (from -r requirements.lock (line 56)) (0.3.2)\n",
            "Requirement already satisfied: mpmath==1.3.0 in /usr/local/lib/python3.12/dist-packages (from -r requirements.lock (line 57)) (1.3.0)\n",
            "Requirement already satisfied: msgpack==1.0.8 in /usr/local/lib/python3.12/dist-packages (from -r requirements.lock (line 58)) (1.0.8)\n",
            "Requirement already satisfied: multidict==6.0.5 in /usr/local/lib/python3.12/dist-packages (from -r requirements.lock (line 59)) (6.0.5)\n",
            "Requirement already satisfied: multiprocess==0.70.16 in /usr/local/lib/python3.12/dist-packages (from -r requirements.lock (line 60)) (0.70.16)\n",
            "Requirement already satisfied: nest-asyncio==1.6.0 in /usr/local/lib/python3.12/dist-packages (from -r requirements.lock (line 61)) (1.6.0)\n",
            "Requirement already satisfied: networkx==3.3 in /usr/local/lib/python3.12/dist-packages (from -r requirements.lock (line 62)) (3.3)\n",
            "Requirement already satisfied: numpy==1.26.4 in /usr/local/lib/python3.12/dist-packages (from -r requirements.lock (line 63)) (1.26.4)\n",
            "Requirement already satisfied: nvidia-cublas-cu12==12.1.3.1 in /usr/local/lib/python3.12/dist-packages (from -r requirements.lock (line 64)) (12.1.3.1)\n",
            "Requirement already satisfied: nvidia-cuda-cupti-cu12==12.1.105 in /usr/local/lib/python3.12/dist-packages (from -r requirements.lock (line 65)) (12.1.105)\n",
            "Requirement already satisfied: nvidia-cuda-nvrtc-cu12==12.1.105 in /usr/local/lib/python3.12/dist-packages (from -r requirements.lock (line 66)) (12.1.105)\n",
            "Requirement already satisfied: nvidia-cuda-runtime-cu12==12.1.105 in /usr/local/lib/python3.12/dist-packages (from -r requirements.lock (line 67)) (12.1.105)\n",
            "Requirement already satisfied: nvidia-cudnn-cu12==8.9.2.26 in /usr/local/lib/python3.12/dist-packages (from -r requirements.lock (line 68)) (8.9.2.26)\n",
            "Requirement already satisfied: nvidia-cufft-cu12==11.0.2.54 in /usr/local/lib/python3.12/dist-packages (from -r requirements.lock (line 69)) (11.0.2.54)\n",
            "Requirement already satisfied: nvidia-curand-cu12==10.3.2.106 in /usr/local/lib/python3.12/dist-packages (from -r requirements.lock (line 70)) (10.3.2.106)\n",
            "Requirement already satisfied: nvidia-cusolver-cu12==11.4.5.107 in /usr/local/lib/python3.12/dist-packages (from -r requirements.lock (line 71)) (11.4.5.107)\n",
            "Requirement already satisfied: nvidia-cusparse-cu12==12.1.0.106 in /usr/local/lib/python3.12/dist-packages (from -r requirements.lock (line 72)) (12.1.0.106)\n",
            "Requirement already satisfied: nvidia-nccl-cu12==2.20.5 in /usr/local/lib/python3.12/dist-packages (from -r requirements.lock (line 73)) (2.20.5)\n",
            "Requirement already satisfied: nvidia-nvjitlink-cu12==12.4.127 in /usr/local/lib/python3.12/dist-packages (from -r requirements.lock (line 74)) (12.4.127)\n",
            "Requirement already satisfied: nvidia-nvtx-cu12==12.1.105 in /usr/local/lib/python3.12/dist-packages (from -r requirements.lock (line 75)) (12.1.105)\n",
            "Requirement already satisfied: opt-einsum==3.3.0 in /usr/local/lib/python3.12/dist-packages (from -r requirements.lock (line 76)) (3.3.0)\n",
            "Requirement already satisfied: optax==0.2.2 in /usr/local/lib/python3.12/dist-packages (from -r requirements.lock (line 77)) (0.2.2)\n",
            "Requirement already satisfied: orbax-checkpoint==0.5.10 in /usr/local/lib/python3.12/dist-packages (from -r requirements.lock (line 78)) (0.5.10)\n",
            "Requirement already satisfied: packaging==24.0 in /usr/local/lib/python3.12/dist-packages (from -r requirements.lock (line 79)) (24.0)\n",
            "Requirement already satisfied: pandas==2.2.2 in /usr/local/lib/python3.12/dist-packages (from -r requirements.lock (line 80)) (2.2.2)\n",
            "Requirement already satisfied: parso==0.8.4 in /usr/local/lib/python3.12/dist-packages (from -r requirements.lock (line 81)) (0.8.4)\n",
            "Requirement already satisfied: pexpect==4.9.0 in /usr/local/lib/python3.12/dist-packages (from -r requirements.lock (line 82)) (4.9.0)\n",
            "Requirement already satisfied: pillow==10.3.0 in /usr/local/lib/python3.12/dist-packages (from -r requirements.lock (line 83)) (10.3.0)\n",
            "Requirement already satisfied: platformdirs==4.2.1 in /usr/local/lib/python3.12/dist-packages (from -r requirements.lock (line 84)) (4.2.1)\n",
            "Requirement already satisfied: prompt-toolkit==3.0.43 in /usr/local/lib/python3.12/dist-packages (from -r requirements.lock (line 85)) (3.0.43)\n",
            "Requirement already satisfied: protobuf==4.25.3 in /usr/local/lib/python3.12/dist-packages (from -r requirements.lock (line 86)) (4.25.3)\n",
            "Requirement already satisfied: psutil==5.9.8 in /usr/local/lib/python3.12/dist-packages (from -r requirements.lock (line 87)) (5.9.8)\n",
            "Requirement already satisfied: ptyprocess==0.7.0 in /usr/local/lib/python3.12/dist-packages (from -r requirements.lock (line 88)) (0.7.0)\n",
            "Requirement already satisfied: pure-eval==0.2.2 in /usr/local/lib/python3.12/dist-packages (from -r requirements.lock (line 89)) (0.2.2)\n",
            "Requirement already satisfied: pyarrow==16.0.0 in /usr/local/lib/python3.12/dist-packages (from -r requirements.lock (line 90)) (16.0.0)\n",
            "Requirement already satisfied: pyarrow-hotfix==0.6 in /usr/local/lib/python3.12/dist-packages (from -r requirements.lock (line 91)) (0.6)\n",
            "Requirement already satisfied: pygments==2.18.0 in /usr/local/lib/python3.12/dist-packages (from -r requirements.lock (line 92)) (2.18.0)\n",
            "Requirement already satisfied: pyparsing==3.1.2 in /usr/local/lib/python3.12/dist-packages (from -r requirements.lock (line 93)) (3.1.2)\n",
            "Requirement already satisfied: python-dateutil==2.9.0.post0 in /usr/local/lib/python3.12/dist-packages (from -r requirements.lock (line 94)) (2.9.0.post0)\n",
            "Requirement already satisfied: pytz==2024.1 in /usr/local/lib/python3.12/dist-packages (from -r requirements.lock (line 95)) (2024.1)\n",
            "Requirement already satisfied: pyyaml==6.0.1 in /usr/local/lib/python3.12/dist-packages (from -r requirements.lock (line 96)) (6.0.1)\n",
            "Requirement already satisfied: pyzmq==26.0.3 in /usr/local/lib/python3.12/dist-packages (from -r requirements.lock (line 97)) (26.0.3)\n",
            "Requirement already satisfied: requests==2.31.0 in /usr/local/lib/python3.12/dist-packages (from -r requirements.lock (line 98)) (2.31.0)\n",
            "Requirement already satisfied: rich==13.7.1 in /usr/local/lib/python3.12/dist-packages (from -r requirements.lock (line 99)) (13.7.1)\n",
            "Requirement already satisfied: scipy==1.13.0 in /usr/local/lib/python3.12/dist-packages (from -r requirements.lock (line 100)) (1.13.0)\n",
            "Requirement already satisfied: sentry-sdk==2.12.0 in /usr/local/lib/python3.12/dist-packages (from -r requirements.lock (line 101)) (2.12.0)\n",
            "Requirement already satisfied: setproctitle==1.3.3 in /usr/local/lib/python3.12/dist-packages (from -r requirements.lock (line 102)) (1.3.3)\n",
            "Requirement already satisfied: six==1.16.0 in /usr/local/lib/python3.12/dist-packages (from -r requirements.lock (line 103)) (1.16.0)\n",
            "Requirement already satisfied: smmap==5.0.1 in /usr/local/lib/python3.12/dist-packages (from -r requirements.lock (line 104)) (5.0.1)\n",
            "Requirement already satisfied: stack-data==0.6.3 in /usr/local/lib/python3.12/dist-packages (from -r requirements.lock (line 105)) (0.6.3)\n",
            "Requirement already satisfied: sympy==1.12 in /usr/local/lib/python3.12/dist-packages (from -r requirements.lock (line 106)) (1.12)\n",
            "Requirement already satisfied: tensorstore==0.1.59 in /usr/local/lib/python3.12/dist-packages (from -r requirements.lock (line 107)) (0.1.59)\n",
            "Requirement already satisfied: tokenizers==0.19.1 in /usr/local/lib/python3.12/dist-packages (from -r requirements.lock (line 108)) (0.19.1)\n",
            "Requirement already satisfied: toolz==0.12.1 in /usr/local/lib/python3.12/dist-packages (from -r requirements.lock (line 109)) (0.12.1)\n",
            "Requirement already satisfied: torch==2.3.0 in /usr/local/lib/python3.12/dist-packages (from -r requirements.lock (line 110)) (2.3.0)\n",
            "Requirement already satisfied: tornado==6.4 in /usr/local/lib/python3.12/dist-packages (from -r requirements.lock (line 111)) (6.4)\n",
            "Requirement already satisfied: tqdm==4.66.4 in /usr/local/lib/python3.12/dist-packages (from -r requirements.lock (line 112)) (4.66.4)\n",
            "Requirement already satisfied: traitlets==5.14.3 in /usr/local/lib/python3.12/dist-packages (from -r requirements.lock (line 113)) (5.14.3)\n",
            "Requirement already satisfied: triton==2.3.0 in /usr/local/lib/python3.12/dist-packages (from -r requirements.lock (line 114)) (2.3.0)\n",
            "Requirement already satisfied: typing-extensions==4.11.0 in /usr/local/lib/python3.12/dist-packages (from -r requirements.lock (line 115)) (4.11.0)\n",
            "Requirement already satisfied: tzdata==2024.1 in /usr/local/lib/python3.12/dist-packages (from -r requirements.lock (line 116)) (2024.1)\n",
            "Requirement already satisfied: urllib3==2.2.1 in /usr/local/lib/python3.12/dist-packages (from -r requirements.lock (line 117)) (2.2.1)\n",
            "Requirement already satisfied: wandb==0.17.5 in /usr/local/lib/python3.12/dist-packages (from -r requirements.lock (line 118)) (0.17.5)\n",
            "Requirement already satisfied: wcwidth==0.2.13 in /usr/local/lib/python3.12/dist-packages (from -r requirements.lock (line 119)) (0.2.13)\n",
            "Requirement already satisfied: xxhash==3.4.1 in /usr/local/lib/python3.12/dist-packages (from -r requirements.lock (line 120)) (3.4.1)\n",
            "Requirement already satisfied: yarl==1.9.4 in /usr/local/lib/python3.12/dist-packages (from -r requirements.lock (line 121)) (1.9.4)\n",
            "Requirement already satisfied: zipp==3.18.1 in /usr/local/lib/python3.12/dist-packages (from -r requirements.lock (line 122)) (3.18.1)\n",
            "Requirement already satisfied: pip==24.0 in /usr/local/lib/python3.12/dist-packages (from -r requirements.lock (line 124)) (24.0)\n",
            "Requirement already satisfied: setuptools==72.1.0 in /usr/local/lib/python3.12/dist-packages (from -r requirements.lock (line 125)) (72.1.0)\n",
            "Using cached jax-0.4.27-py3-none-any.whl (1.9 MB)\n",
            "Using cached jaxlib-0.4.27-cp312-cp312-manylinux2014_x86_64.whl (77.4 MB)\n",
            "Building wheels for collected packages: jax-llm\n",
            "  Building editable for jax-llm (pyproject.toml) ... \u001b[?25l\u001b[?25hdone\n",
            "  Created wheel for jax-llm: filename=jax_llm-0.1.0-py3-none-any.whl size=4970 sha256=3e69cbd1d9daa967122a2a13990a0378f489c893708123358d6eb6cb707364ff\n",
            "  Stored in directory: /tmp/pip-ephem-wheel-cache-ado979zr/wheels/cf/7e/54/0a0186b36bb284eb9681ff1ee53ab96675e41de45be3555aca\n",
            "Successfully built jax-llm\n",
            "Installing collected packages: jaxlib, jax, jax-llm\n",
            "  Attempting uninstall: jaxlib\n",
            "    Found existing installation: jaxlib 0.4.33\n",
            "    Uninstalling jaxlib-0.4.33:\n",
            "      Successfully uninstalled jaxlib-0.4.33\n",
            "  Attempting uninstall: jax\n",
            "    Found existing installation: jax 0.4.33\n",
            "    Uninstalling jax-0.4.33:\n",
            "      Successfully uninstalled jax-0.4.33\n",
            "  Attempting uninstall: jax-llm\n",
            "    Found existing installation: jax-llm 0.1.0\n",
            "    Uninstalling jax-llm-0.1.0:\n",
            "      Successfully uninstalled jax-llm-0.1.0\n",
            "Successfully installed jax-0.4.27 jax-llm-0.1.0 jaxlib-0.4.27\n"
          ]
        }
      ],
      "source": [
        "!git clone https://github.com/speed1313/jax-llm.git\n",
        "%cd /content/jax-llm\n",
        "!pip install -r requirements.lock"
      ]
    },
    {
      "cell_type": "code",
      "source": [
        "!python3.12 /content/jax-llm/src/jax_llm/prepare_aozora.py --book_num 1000"
      ],
      "metadata": {
        "colab": {
          "base_uri": "https://localhost:8080/"
        },
        "id": "xYq88Ys63nGA",
        "outputId": "1152d8a6-5a5b-497e-8300-2faba98a8067"
      },
      "execution_count": 2,
      "outputs": [
        {
          "output_type": "stream",
          "name": "stdout",
          "text": [
            "Downloading readme: 2.96kB [00:00, 10.8MB/s]\n",
            "Downloading data: 100% 241M/241M [00:04<00:00, 48.5MB/s]\n",
            "Generating train split: 100% 16951/16951 [00:06<00:00, 2809.93 examples/s]\n",
            "Filter: 100% 16951/16951 [00:03<00:00, 5071.02 examples/s]\n",
            "1000 books out of 10246 are used\n"
          ]
        }
      ]
    },
    {
      "cell_type": "code",
      "source": [
        "!pip install -U \"jax[tpu]==0.4.33\" -f https://storage.googleapis.com/jax-releases/libtpu_releases.html\n",
        "!python3.12  /content/jax-llm/src/jax_llm/train_tokenizer.py --data_name \"aozora_1000\""
      ],
      "metadata": {
        "colab": {
          "base_uri": "https://localhost:8080/"
        },
        "id": "lfG4hTLv37Dg",
        "outputId": "4efa2269-bcf5-4edb-8b0b-80a51cdebd9c"
      },
      "execution_count": 4,
      "outputs": [
        {
          "output_type": "stream",
          "name": "stdout",
          "text": [
            "Looking in links: https://storage.googleapis.com/jax-releases/libtpu_releases.html\n",
            "Collecting jax==0.4.33 (from jax[tpu]==0.4.33)\n",
            "  Using cached jax-0.4.33-py3-none-any.whl.metadata (22 kB)\n",
            "Collecting jaxlib<=0.4.33,>=0.4.33 (from jax==0.4.33->jax[tpu]==0.4.33)\n",
            "  Using cached jaxlib-0.4.33-cp312-cp312-manylinux2014_x86_64.whl.metadata (983 bytes)\n",
            "Requirement already satisfied: ml-dtypes>=0.2.0 in /usr/local/lib/python3.12/dist-packages (from jax==0.4.33->jax[tpu]==0.4.33) (0.3.2)\n",
            "Requirement already satisfied: numpy>=1.24 in /usr/local/lib/python3.12/dist-packages (from jax==0.4.33->jax[tpu]==0.4.33) (1.26.4)\n",
            "Requirement already satisfied: opt-einsum in /usr/local/lib/python3.12/dist-packages (from jax==0.4.33->jax[tpu]==0.4.33) (3.3.0)\n",
            "Requirement already satisfied: scipy>=1.10 in /usr/local/lib/python3.12/dist-packages (from jax==0.4.33->jax[tpu]==0.4.33) (1.13.0)\n",
            "Requirement already satisfied: libtpu-nightly==0.1.dev20240916 in /usr/local/lib/python3.12/dist-packages (from jax[tpu]==0.4.33) (0.1.dev20240916+nightly)\n",
            "Requirement already satisfied: requests in /usr/local/lib/python3.12/dist-packages (from jax[tpu]==0.4.33) (2.31.0)\n",
            "Requirement already satisfied: charset-normalizer<4,>=2 in /usr/local/lib/python3.12/dist-packages (from requests->jax[tpu]==0.4.33) (3.3.2)\n",
            "Requirement already satisfied: idna<4,>=2.5 in /usr/local/lib/python3.12/dist-packages (from requests->jax[tpu]==0.4.33) (3.7)\n",
            "Requirement already satisfied: urllib3<3,>=1.21.1 in /usr/local/lib/python3.12/dist-packages (from requests->jax[tpu]==0.4.33) (2.2.1)\n",
            "Requirement already satisfied: certifi>=2017.4.17 in /usr/local/lib/python3.12/dist-packages (from requests->jax[tpu]==0.4.33) (2024.2.2)\n",
            "Using cached jax-0.4.33-py3-none-any.whl (2.1 MB)\n",
            "Using cached jaxlib-0.4.33-cp312-cp312-manylinux2014_x86_64.whl (85.1 MB)\n",
            "Installing collected packages: jaxlib, jax\n",
            "  Attempting uninstall: jaxlib\n",
            "    Found existing installation: jaxlib 0.4.27\n",
            "    Uninstalling jaxlib-0.4.27:\n",
            "      Successfully uninstalled jaxlib-0.4.27\n",
            "  Attempting uninstall: jax\n",
            "    Found existing installation: jax 0.4.27\n",
            "    Uninstalling jax-0.4.27:\n",
            "      Successfully uninstalled jax-0.4.27\n",
            "Successfully installed jax-0.4.33 jaxlib-0.4.33\n",
            "\u001b[2K[00:00:02] Tokenize words                 ██████████████████ 1238804  /  1238804\n",
            "\u001b[2K[00:00:12] Count pairs                    ██████████████████ 1238804  /  1238804\n",
            "\u001b[2K[00:17:37] Compute merges                 ██████████████████ 44385    /    44385\n",
            "Total tokens:  8626919\n"
          ]
        }
      ]
    },
    {
      "cell_type": "code",
      "source": [
        "!python3.12 /content/jax-llm/src/jax_llm/train.py \\\n",
        "    --data_name \"aozora_1000\" \\\n",
        "    --batch_size 32 \\\n",
        "    --n_iterations 2000 \\\n",
        "    --n_freq_eval 100 \\\n",
        "    --dropout_rate 0.1 \\\n",
        "    --learning_rate 0.001 \\\n",
        "    --num_layers 8 \\\n",
        "    --embed_size 384 \\\n",
        "    --head_size 48 \\\n",
        "    --num_heads 8 \\\n",
        "    --block_size 128 \\\n",
        "    --wandb_log False"
      ],
      "metadata": {
        "colab": {
          "base_uri": "https://localhost:8080/"
        },
        "id": "4fxRFfcq3uqW",
        "outputId": "fbe64079-e887-44f2-e3ac-bb5ed36b62fd"
      },
      "execution_count": 6,
      "outputs": [
        {
          "output_type": "stream",
          "name": "stdout",
          "text": [
            "JAX running on TPU\n",
            "Tokenizer loaded\n",
            "Total number of parameters: 48_792_576\n",
            "  0% 0/2000 [00:00<?, ?it/s]Step: 0\t train loss: 11.38959789276123\t eval loss: 10.542952537536621\n",
            "  5% 100/2000 [00:27<02:20, 13.51it/s]Step: 100\t train loss: 8.571722030639648\t eval loss: 8.384016036987305\n",
            " 10% 199/2000 [00:34<02:13, 13.51it/s]Step: 200\t train loss: 8.150879859924316\t eval loss: 8.089750289916992\n",
            " 15% 299/2000 [00:42<02:05, 13.53it/s]Step: 300\t train loss: 8.06022834777832\t eval loss: 7.63992166519165\n",
            " 20% 399/2000 [00:49<01:58, 13.53it/s]Step: 400\t train loss: 8.035967826843262\t eval loss: 7.690062522888184\n",
            " 25% 499/2000 [00:56<01:51, 13.52it/s]Step: 500\t train loss: 7.846991062164307\t eval loss: 7.600899696350098\n",
            " 30% 599/2000 [01:04<01:43, 13.51it/s]Step: 600\t train loss: 7.7482590675354\t eval loss: 7.524024486541748\n",
            " 35% 699/2000 [01:11<01:36, 13.52it/s]Step: 700\t train loss: 7.5671067237854\t eval loss: 7.456274509429932\n",
            " 40% 799/2000 [01:19<01:28, 13.54it/s]Step: 800\t train loss: 7.501124858856201\t eval loss: 7.313697338104248\n",
            " 45% 899/2000 [01:26<01:21, 13.51it/s]Step: 900\t train loss: 7.366631984710693\t eval loss: 7.194124698638916\n",
            " 50% 999/2000 [01:34<01:14, 13.51it/s]Step: 1000\t train loss: 7.239131450653076\t eval loss: 7.045901298522949\n",
            " 55% 1099/2000 [01:41<01:06, 13.52it/s]Step: 1100\t train loss: 7.453059196472168\t eval loss: 6.899028301239014\n",
            " 60% 1199/2000 [01:48<00:59, 13.50it/s]Step: 1200\t train loss: 7.194242477416992\t eval loss: 7.0717878341674805\n",
            " 65% 1299/2000 [01:56<00:51, 13.51it/s]Step: 1300\t train loss: 7.1197509765625\t eval loss: 6.922529220581055\n",
            " 70% 1399/2000 [02:03<00:44, 13.47it/s]Step: 1400\t train loss: 7.062191009521484\t eval loss: 6.961999893188477\n",
            " 75% 1499/2000 [02:11<00:37, 13.51it/s]Step: 1500\t train loss: 7.057056903839111\t eval loss: 6.8365960121154785\n",
            " 80% 1599/2000 [02:18<00:29, 13.51it/s]Step: 1600\t train loss: 7.067151069641113\t eval loss: 6.723923683166504\n",
            " 85% 1699/2000 [02:26<00:22, 13.51it/s]Step: 1700\t train loss: 6.896490097045898\t eval loss: 6.894425392150879\n",
            " 90% 1799/2000 [02:33<00:14, 13.51it/s]Step: 1800\t train loss: 6.836441516876221\t eval loss: 6.588216304779053\n",
            " 95% 1899/2000 [02:40<00:07, 13.53it/s]Step: 1900\t train loss: 6.920042037963867\t eval loss: 6.825984477996826\n",
            "100% 2000/2000 [02:48<00:00, 11.88it/s]\n",
            "Figure(640x480)\n",
            "Figure(640x480)\n",
            "コト 林 一人は 四時 ヶ 蛤 船 参 、 四十 七八 ）、 墺 町の 沈没 潮 着 ず ころ 東 倉庫 山 目と 百 町 に見える り 。 こども 谷 番の 学校で 存し 干 縁 でなく 。 東 は大 提灯 ぞ 、 海 船 があった 。） ま づ ン 火の 缶 が プラン 市 中には 当然 七十 何万 色に 浴 の背 にかわった 。 高い 石段 をかぶせて 、 あっち 型の のこりの 暗 だった 。 七百 木が 二階 暦 、 王立協会の 入り 湧き 寄り 、 一段 幕 の水 均 で 、 雲が 吹き 二三間 坐 場 付近の 飛 傍 を見れば 、 ふたたび 土 剥 人や 動く 。 車 と 、 岸 鼻の 尾 の様に 、 目印 ながら 、 琉球 を追 平 天に 、 門 の底 も たて という ないたず のある 山には 瓦斯 の ことになる 。 「 ああ 、 なにか お昼 がない 出 ない 。 へ 先に 。 わしは ピート一等兵 ！」 といって 、 その 養成 していた 。 そこで 日 、 海水 の名も 化け め をひっこ る 、 となると 、 一層 立って 八 番 をとる それからの など 、 はじめて 逃が りながら 、 あまり 、 やっと いろいろな 気味悪 われていた のに気がついた 。 それで かの 洞穴 をひっ あがった 振動 その人が 医者 も 聞いた まま あって 行く ような もので 、 得 方 見ると 、 人を かえって よく 数が 腹の中で 消毒 を申 どこへ 連れ 立て 去った のだ 。 子供を 裏 はあ かした ら 手を 逃げ 谷 を出ると 、 僕は すぐ 小型の 千鳥 と ああ 、 そうすると これだけ で 、 二郎 君の 巡査 彼方の 渦巻 …… そうして みた のだが 、 博士の 射撃 柱 の下に びっくりしてしまいました 。 そのとき 達 の上で 歎息 致 の御 隅に ある そのおかげで 後から 突然 思わず 明かに 気を 問 小池 に 打ち 撃たれた ではありませんか 。 そして その又 変わった 時には 、 机の上に 挨拶 しました 。 と同時に ふと ふみ 入った 顔で 来ました 。 「 共犯 者は 随分 重い ヤマ スを 云 ってお きたい なんて わし になった んだろう ？」 と私は 親切 の 外に 好き を見ている 訳 か 。 機智 の中で 、 おかしい か 。 一点の する事は 何時 寒 さに 、 恐らく 滑稽 的な 異常 眠 惜 所は 、 燬 顔をした 返事は 違った 座 電話 を見いだ くれた ではないか 。 前後 もなく 、 何かの 思 が不 略 だったから 、 そんな 欠乏 羅の 人な が まことに 自分の 量 を解いた という 感想 が いった か していたから 、 江戸川 サ ラと 固 々しく たち には 、 起ち おと ると 、 解らなかった が 自分の 不都合 な 大 産 典 兵の 婦人に 話した 所に 尽 出来る 老若 と云う 身動き そう とも 断定 を解 退 るような 知られた と見えて 、 つまり 、 木の葉の 如何に 娘 の中に 、 諾 したと 、 に襲われた 場所は 歌 の如き 文句を 同情 するのを 思い 出された 。 が 、 若し 新しい 応接 機で 、 前の 隅々 少年の 有様 があった のに 今から も 同情 なし 四条 とは 、 「 一々 彼れ さんとは 、 それ 内に すく んでいる ほど 葬式 は 、 伯母 だわ 。 あなたのお 関係がある のは 、 浅草 を探って いた 敵 吉が 初め そう にな て ちび は 、 本職 はこの 家の 時間 を持った そして 、 遊び には 、 さあ 、 幸か不幸か 、 いいえ ―― 。 薩摩 の 女が 、 化し 、 当然 か 、 気がついた の 言えない 。 考えて見れば 、 常 は大 温泉 を執 り つつ 、 女が 鄭 にぎ って のために とつぜん 誰も 、 一人の男が 、 余りのことに 止 まって くれたので ちゃ と思う 。 もう一度 読んで くれ給え といい 、 「 先生 とお 湯を 開けた ことが 教えて くる のだよ 」 その男は 、 いつまでたっても 、 彼は 思わず 口を開 いていたが 、 変な 笑って 、 四 尺 ほど 鋭く ハッとした 。 「 それでは 一寸 しろ といえば 、 向う らしい とお ごそ もの ないで しないで 、 そうだ 。 半島の 早い 私 を見 物を 食 しかった からなあ 。 連想 よ 。 もっと 利益 じゃないか 。 わしは これから ぼくの ご 児 の仕 中に 落ち になっても 、 いったい 、 俺 にばけて 、 どちらか 、 この 鼻の こ して 歩いた ことを 助け むっくり 合わ してお いかなかった んですか 。 だ 。 金色の 宝石商 は 、 ずっと 尋ね 込んで ね 。 ここへ 行って なさった ら 、 乞食 ぶった の ？」 例の 予期していた 白糸は 痙攣 をおろして 同時に 、 「 なんだ ？ その外に こう もないのだ 。 そんなら 重 し 、 未練 はよ して 河野 で 、 どうしても 突っ 落とした 。 なんと 人間が また そなた に 融通 払 わせて 、 言 もあった と見える 」 長谷戸 検事 に手 あ かした 。 モロー彗星が 家政 一は どこへ 帰る ことも 彼が 例の 日本 においては 、 田舎 のお わ ませ るために 、 君も 危難 が いくら つくり つけ 残 せり しまった 。 「 そうですよ 。 飛行機で 魚 さんの 知っている んだぜ 。 そうか 、 あれを 承 った 。 あたし なんかの 騒ぎ だよ 。 どうしよう ッ 、 あとで 、 深夜の市長 」 伯父 達 学的 頭脳 のことが 社会 会 を作って 、 彼にとって 変だ 。 それにしても 、 これは 佐々砲弾 はそれを して居 れる 。 博士は ホッと 出た 。 憚 った ところが 、 その辺に 、 ふしぎな 叫び 報告 を思い 込んで しまった 。 あの 鉄 を入れ なけりゃ 、 壁 がす った こんな大きな 。 また たど りのない 小さな ボートが 成功した 言葉が 、 これは 情 視 なしに 、 今 着て 、 「 えッ 、 さア 、 夕刻 くる よ 。 ぼくは 、 夏 人は 水の 指紋が 成功 も 拾 ったり なさった もの でございますよ 。 じゃ 困る って ないかね 。 そこは 簡単に かい 。 ああ 、 ここだ ヒマラヤ 君 、 いやな お客さん 団長 林 代の 犯人は 重力 隊の 剣 」 と 空 はその 「 ウン 、 富士 チ ッ 。 いや 、 この よ 。 早く 盗んだ ね 。 もう 国境 配達 路の 飛行島 号 は ボート へ電話をかけて 想像 できる 」 墓地の こなごなに 四 節を 給え 」 と 喜んでいる ル ング の中から 、 だれかが 異様な 応答 したが 、 戸棚 の中を 、 まっかな 棚 の諸 機 誌 長 電 行を 奪 っていた 。 そこで 、 船の 襲撃 一挺 という名 々に 明智が 叫び 込んでいた 。 蟻田博士の 敵 隊の なんだか 失望 をする もの そっくりの 人間 だけ 、 帆村は 、 逮捕 の顔を 向き だ したので 、 「 あっ ネ 。 いくら むずかしく 殺されて 、 考えた んだが 。…… 一時間 後は 何が 大利根 発狂 がある 。 ちょっと 申します かい 」 大江山課長は 、 その 外へ 逃げた あれだ 。 小池 の名 子という 畜 には 、 済み れば 、 これで 一号 琥 ” スタンド\n",
            "Params stored\n"
          ]
        }
      ]
    },
    {
      "cell_type": "code",
      "source": [
        "!python /content/jax-llm/src/jax_llm/generate.py --prompt \"あなたは誰？\" --data_name \"aozora_1000\" --max_new_tokens 200"
      ],
      "metadata": {
        "colab": {
          "base_uri": "https://localhost:8080/"
        },
        "id": "hq0VimAVEtN6",
        "outputId": "81eb5f3f-6ad6-4ab8-c05c-4b14b7457cb5"
      },
      "execution_count": 7,
      "outputs": [
        {
          "output_type": "stream",
          "name": "stdout",
          "text": [
            "Output: あなたは 誰 ？ 僕は 、 やっぱり 、 ちゃんと はいって きます 。 「 でも 、 まだ 御 見 だ 。」 と 、 「 いや 、 お いう 」 「 それは これは まだ 、 よく 、 もう その 門 へは 、 しばらく でも 、 「 そうです 。」 「 なに だ 。」 「 うん 、 ああ 、 その 、 あの 小さな 人間 なら 、 この 鍵 の中で 、 その 小さな 巨 人と 顔を 合わせて 、 もう もう 、 まだ その 命 が 、 それは 彼の 探偵 を 要求 だった 。 「 しかし 、 この 人が あります 。 あの 人が 、 よく て さ 。 ただ お 様 、 御 願 を 承 って 、 この 男 、 ただ 、 その 「 それは この 宝 では 、 また 、 それを 、 まるで 、 まだ この 美術 長の 事件 で 、 もう 一人 、 それは 「 それは よく 云 える 。 「 おお 、 あたし と 、 この 「 いや 。 この 、 その 墓 を 、 「 ああ 、 まあ と 、 「 いや 、 あの ものは 、 そして 例の 探偵 の 関係 はない 。 だが 、 この 部屋 にある 。 「 ああ 、 あの 人間が 、 すっかり いる から 、 そして 、 もう 「 ああ 、\n"
          ]
        }
      ]
    }
  ]
}