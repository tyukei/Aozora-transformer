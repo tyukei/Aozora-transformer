{
  "nbformat": 4,
  "nbformat_minor": 0,
  "metadata": {
    "colab": {
      "provenance": [],
      "gpuType": "V28",
      "include_colab_link": true
    },
    "kernelspec": {
      "name": "python3",
      "display_name": "Python 3"
    },
    "language_info": {
      "name": "python"
    },
    "accelerator": "TPU"
  },
  "cells": [
    {
      "cell_type": "markdown",
      "metadata": {
        "id": "view-in-github",
        "colab_type": "text"
      },
      "source": [
        "<a href=\"https://colab.research.google.com/github/tyukei/Aozora-transformer/blob/main/Aozora_llm.ipynb\" target=\"_parent\"><img src=\"https://colab.research.google.com/assets/colab-badge.svg\" alt=\"Open In Colab\"/></a>"
      ]
    },
    {
      "cell_type": "code",
      "source": [
        "!git clone https://github.com/speed1313/jax-llm.git\n",
        "%cd jax-llm\n",
        "!pip install -r requirements.lock\n",
        "!pip install etils\n",
        "!pip install datasets\n",
        "!pip install requests\n",
        "!pip install tiktoken\n",
        "!pip install jax"
      ],
      "metadata": {
        "colab": {
          "base_uri": "https://localhost:8080/"
        },
        "id": "UK-0naz2Q_Ya",
        "outputId": "1ff15aae-ab72-4d75-f9de-2f7e8a33f6b4"
      },
      "execution_count": null,
      "outputs": [
        {
          "output_type": "stream",
          "name": "stdout",
          "text": [
            "fatal: destination path 'jax-llm' already exists and is not an empty directory.\n",
            "/content/jax-llm\n",
            "Obtaining file:///. (from -r requirements.lock (line 10))\n",
            "  Installing build dependencies ... \u001b[?25l\u001b[?25hdone\n",
            "  Checking if build backend supports build_editable ... \u001b[?25l\u001b[?25hdone\n",
            "  Getting requirements to build editable ... \u001b[?25l\u001b[?25hdone\n",
            "  Installing backend dependencies ... \u001b[?25l\u001b[?25hdone\n",
            "  Preparing editable metadata (pyproject.toml) ... \u001b[?25l\u001b[?25hdone\n",
            "Requirement already satisfied: absl-py==2.1.0 in /usr/local/lib/python3.11/dist-packages (from -r requirements.lock (line 11)) (2.1.0)\n",
            "Requirement already satisfied: aiohttp==3.9.5 in /usr/local/lib/python3.11/dist-packages (from -r requirements.lock (line 12)) (3.9.5)\n",
            "Requirement already satisfied: aiosignal==1.3.1 in /usr/local/lib/python3.11/dist-packages (from -r requirements.lock (line 13)) (1.3.1)\n",
            "Requirement already satisfied: asttokens==2.4.1 in /usr/local/lib/python3.11/dist-packages (from -r requirements.lock (line 14)) (2.4.1)\n",
            "Requirement already satisfied: attrs==23.2.0 in /usr/local/lib/python3.11/dist-packages (from -r requirements.lock (line 15)) (23.2.0)\n",
            "Requirement already satisfied: certifi==2024.2.2 in /usr/local/lib/python3.11/dist-packages (from -r requirements.lock (line 16)) (2024.2.2)\n",
            "Requirement already satisfied: charset-normalizer==3.3.2 in /usr/local/lib/python3.11/dist-packages (from -r requirements.lock (line 17)) (3.3.2)\n",
            "Requirement already satisfied: chex==0.1.86 in /usr/local/lib/python3.11/dist-packages (from -r requirements.lock (line 18)) (0.1.86)\n",
            "Requirement already satisfied: click==8.1.7 in /usr/local/lib/python3.11/dist-packages (from -r requirements.lock (line 19)) (8.1.7)\n",
            "Requirement already satisfied: comm==0.2.2 in /usr/local/lib/python3.11/dist-packages (from -r requirements.lock (line 20)) (0.2.2)\n",
            "Requirement already satisfied: contextlib2==21.6.0 in /usr/local/lib/python3.11/dist-packages (from -r requirements.lock (line 21)) (21.6.0)\n",
            "Requirement already satisfied: contourpy==1.2.1 in /usr/local/lib/python3.11/dist-packages (from -r requirements.lock (line 22)) (1.2.1)\n",
            "Requirement already satisfied: cycler==0.12.1 in /usr/local/lib/python3.11/dist-packages (from -r requirements.lock (line 23)) (0.12.1)\n",
            "Requirement already satisfied: datasets==2.19.1 in /usr/local/lib/python3.11/dist-packages (from -r requirements.lock (line 24)) (2.19.1)\n",
            "Requirement already satisfied: debugpy==1.8.1 in /usr/local/lib/python3.11/dist-packages (from -r requirements.lock (line 25)) (1.8.1)\n",
            "Requirement already satisfied: decorator==5.1.1 in /usr/local/lib/python3.11/dist-packages (from -r requirements.lock (line 26)) (5.1.1)\n",
            "Requirement already satisfied: dill==0.3.8 in /usr/local/lib/python3.11/dist-packages (from -r requirements.lock (line 27)) (0.3.8)\n",
            "Requirement already satisfied: docker-pycreds==0.4.0 in /usr/local/lib/python3.11/dist-packages (from -r requirements.lock (line 28)) (0.4.0)\n",
            "Requirement already satisfied: etils==1.8.0 in /usr/local/lib/python3.11/dist-packages (from -r requirements.lock (line 29)) (1.8.0)\n",
            "Requirement already satisfied: executing==2.0.1 in /usr/local/lib/python3.11/dist-packages (from -r requirements.lock (line 30)) (2.0.1)\n",
            "Requirement already satisfied: filelock==3.14.0 in /usr/local/lib/python3.11/dist-packages (from -r requirements.lock (line 31)) (3.14.0)\n",
            "Requirement already satisfied: flax==0.8.3 in /usr/local/lib/python3.11/dist-packages (from -r requirements.lock (line 32)) (0.8.3)\n",
            "Requirement already satisfied: fonttools==4.51.0 in /usr/local/lib/python3.11/dist-packages (from -r requirements.lock (line 33)) (4.51.0)\n",
            "Requirement already satisfied: frozenlist==1.4.1 in /usr/local/lib/python3.11/dist-packages (from -r requirements.lock (line 34)) (1.4.1)\n",
            "Requirement already satisfied: fsspec==2024.3.1 in /usr/local/lib/python3.11/dist-packages (from -r requirements.lock (line 35)) (2024.3.1)\n",
            "Requirement already satisfied: gitdb==4.0.11 in /usr/local/lib/python3.11/dist-packages (from -r requirements.lock (line 36)) (4.0.11)\n",
            "Requirement already satisfied: gitpython==3.1.43 in /usr/local/lib/python3.11/dist-packages (from -r requirements.lock (line 37)) (3.1.43)\n",
            "Requirement already satisfied: huggingface-hub==0.23.0 in /usr/local/lib/python3.11/dist-packages (from -r requirements.lock (line 38)) (0.23.0)\n",
            "Requirement already satisfied: idna==3.7 in /usr/local/lib/python3.11/dist-packages (from -r requirements.lock (line 39)) (3.7)\n",
            "Requirement already satisfied: importlib-resources==6.4.0 in /usr/local/lib/python3.11/dist-packages (from -r requirements.lock (line 40)) (6.4.0)\n",
            "Requirement already satisfied: ipykernel==6.29.4 in /usr/local/lib/python3.11/dist-packages (from -r requirements.lock (line 41)) (6.29.4)\n",
            "Requirement already satisfied: ipython==8.24.0 in /usr/local/lib/python3.11/dist-packages (from -r requirements.lock (line 42)) (8.24.0)\n",
            "Requirement already satisfied: jax==0.4.27 in /usr/local/lib/python3.11/dist-packages (from -r requirements.lock (line 43)) (0.4.27)\n",
            "Requirement already satisfied: jaxlib==0.4.27 in /usr/local/lib/python3.11/dist-packages (from -r requirements.lock (line 44)) (0.4.27)\n",
            "Requirement already satisfied: jedi==0.19.1 in /usr/local/lib/python3.11/dist-packages (from -r requirements.lock (line 45)) (0.19.1)\n",
            "Requirement already satisfied: jinja2==3.1.4 in /usr/local/lib/python3.11/dist-packages (from -r requirements.lock (line 46)) (3.1.4)\n",
            "Requirement already satisfied: jupyter-client==8.6.1 in /usr/local/lib/python3.11/dist-packages (from -r requirements.lock (line 47)) (8.6.1)\n",
            "Requirement already satisfied: jupyter-core==5.7.2 in /usr/local/lib/python3.11/dist-packages (from -r requirements.lock (line 48)) (5.7.2)\n",
            "Requirement already satisfied: kiwisolver==1.4.5 in /usr/local/lib/python3.11/dist-packages (from -r requirements.lock (line 49)) (1.4.5)\n",
            "Requirement already satisfied: markdown-it-py==3.0.0 in /usr/local/lib/python3.11/dist-packages (from -r requirements.lock (line 50)) (3.0.0)\n",
            "Requirement already satisfied: markupsafe==2.1.5 in /usr/local/lib/python3.11/dist-packages (from -r requirements.lock (line 51)) (2.1.5)\n",
            "Requirement already satisfied: matplotlib==3.8.4 in /usr/local/lib/python3.11/dist-packages (from -r requirements.lock (line 52)) (3.8.4)\n",
            "Requirement already satisfied: matplotlib-inline==0.1.7 in /usr/local/lib/python3.11/dist-packages (from -r requirements.lock (line 53)) (0.1.7)\n",
            "Requirement already satisfied: mdurl==0.1.2 in /usr/local/lib/python3.11/dist-packages (from -r requirements.lock (line 54)) (0.1.2)\n",
            "Requirement already satisfied: ml-collections==0.1.1 in /usr/local/lib/python3.11/dist-packages (from -r requirements.lock (line 55)) (0.1.1)\n",
            "Requirement already satisfied: ml-dtypes==0.3.2 in /usr/local/lib/python3.11/dist-packages (from -r requirements.lock (line 56)) (0.3.2)\n",
            "Requirement already satisfied: mpmath==1.3.0 in /usr/local/lib/python3.11/dist-packages (from -r requirements.lock (line 57)) (1.3.0)\n",
            "Requirement already satisfied: msgpack==1.0.8 in /usr/local/lib/python3.11/dist-packages (from -r requirements.lock (line 58)) (1.0.8)\n",
            "Requirement already satisfied: multidict==6.0.5 in /usr/local/lib/python3.11/dist-packages (from -r requirements.lock (line 59)) (6.0.5)\n",
            "Requirement already satisfied: multiprocess==0.70.16 in /usr/local/lib/python3.11/dist-packages (from -r requirements.lock (line 60)) (0.70.16)\n",
            "Requirement already satisfied: nest-asyncio==1.6.0 in /usr/local/lib/python3.11/dist-packages (from -r requirements.lock (line 61)) (1.6.0)\n",
            "Requirement already satisfied: networkx==3.3 in /usr/local/lib/python3.11/dist-packages (from -r requirements.lock (line 62)) (3.3)\n",
            "Requirement already satisfied: numpy==1.26.4 in /usr/local/lib/python3.11/dist-packages (from -r requirements.lock (line 63)) (1.26.4)\n",
            "Requirement already satisfied: nvidia-cublas-cu12==12.1.3.1 in /usr/local/lib/python3.11/dist-packages (from -r requirements.lock (line 64)) (12.1.3.1)\n",
            "Requirement already satisfied: nvidia-cuda-cupti-cu12==12.1.105 in /usr/local/lib/python3.11/dist-packages (from -r requirements.lock (line 65)) (12.1.105)\n",
            "Requirement already satisfied: nvidia-cuda-nvrtc-cu12==12.1.105 in /usr/local/lib/python3.11/dist-packages (from -r requirements.lock (line 66)) (12.1.105)\n",
            "Requirement already satisfied: nvidia-cuda-runtime-cu12==12.1.105 in /usr/local/lib/python3.11/dist-packages (from -r requirements.lock (line 67)) (12.1.105)\n",
            "Requirement already satisfied: nvidia-cudnn-cu12==8.9.2.26 in /usr/local/lib/python3.11/dist-packages (from -r requirements.lock (line 68)) (8.9.2.26)\n",
            "Requirement already satisfied: nvidia-cufft-cu12==11.0.2.54 in /usr/local/lib/python3.11/dist-packages (from -r requirements.lock (line 69)) (11.0.2.54)\n",
            "Requirement already satisfied: nvidia-curand-cu12==10.3.2.106 in /usr/local/lib/python3.11/dist-packages (from -r requirements.lock (line 70)) (10.3.2.106)\n",
            "Requirement already satisfied: nvidia-cusolver-cu12==11.4.5.107 in /usr/local/lib/python3.11/dist-packages (from -r requirements.lock (line 71)) (11.4.5.107)\n",
            "Requirement already satisfied: nvidia-cusparse-cu12==12.1.0.106 in /usr/local/lib/python3.11/dist-packages (from -r requirements.lock (line 72)) (12.1.0.106)\n",
            "Requirement already satisfied: nvidia-nccl-cu12==2.20.5 in /usr/local/lib/python3.11/dist-packages (from -r requirements.lock (line 73)) (2.20.5)\n",
            "Requirement already satisfied: nvidia-nvjitlink-cu12==12.4.127 in /usr/local/lib/python3.11/dist-packages (from -r requirements.lock (line 74)) (12.4.127)\n",
            "Requirement already satisfied: nvidia-nvtx-cu12==12.1.105 in /usr/local/lib/python3.11/dist-packages (from -r requirements.lock (line 75)) (12.1.105)\n",
            "Requirement already satisfied: opt-einsum==3.3.0 in /usr/local/lib/python3.11/dist-packages (from -r requirements.lock (line 76)) (3.3.0)\n",
            "Requirement already satisfied: optax==0.2.2 in /usr/local/lib/python3.11/dist-packages (from -r requirements.lock (line 77)) (0.2.2)\n",
            "Requirement already satisfied: orbax-checkpoint==0.5.10 in /usr/local/lib/python3.11/dist-packages (from -r requirements.lock (line 78)) (0.5.10)\n",
            "Requirement already satisfied: packaging==24.0 in /usr/local/lib/python3.11/dist-packages (from -r requirements.lock (line 79)) (24.0)\n",
            "Requirement already satisfied: pandas==2.2.2 in /usr/local/lib/python3.11/dist-packages (from -r requirements.lock (line 80)) (2.2.2)\n",
            "Requirement already satisfied: parso==0.8.4 in /usr/local/lib/python3.11/dist-packages (from -r requirements.lock (line 81)) (0.8.4)\n",
            "Requirement already satisfied: pexpect==4.9.0 in /usr/local/lib/python3.11/dist-packages (from -r requirements.lock (line 82)) (4.9.0)\n",
            "Requirement already satisfied: pillow==10.3.0 in /usr/local/lib/python3.11/dist-packages (from -r requirements.lock (line 83)) (10.3.0)\n",
            "Requirement already satisfied: platformdirs==4.2.1 in /usr/local/lib/python3.11/dist-packages (from -r requirements.lock (line 84)) (4.2.1)\n",
            "Requirement already satisfied: prompt-toolkit==3.0.43 in /usr/local/lib/python3.11/dist-packages (from -r requirements.lock (line 85)) (3.0.43)\n",
            "Requirement already satisfied: protobuf==4.25.3 in /usr/local/lib/python3.11/dist-packages (from -r requirements.lock (line 86)) (4.25.3)\n",
            "Requirement already satisfied: psutil==5.9.8 in /usr/local/lib/python3.11/dist-packages (from -r requirements.lock (line 87)) (5.9.8)\n",
            "Requirement already satisfied: ptyprocess==0.7.0 in /usr/local/lib/python3.11/dist-packages (from -r requirements.lock (line 88)) (0.7.0)\n",
            "Requirement already satisfied: pure-eval==0.2.2 in /usr/local/lib/python3.11/dist-packages (from -r requirements.lock (line 89)) (0.2.2)\n",
            "Requirement already satisfied: pyarrow==16.0.0 in /usr/local/lib/python3.11/dist-packages (from -r requirements.lock (line 90)) (16.0.0)\n",
            "Requirement already satisfied: pyarrow-hotfix==0.6 in /usr/local/lib/python3.11/dist-packages (from -r requirements.lock (line 91)) (0.6)\n",
            "Requirement already satisfied: pygments==2.18.0 in /usr/local/lib/python3.11/dist-packages (from -r requirements.lock (line 92)) (2.18.0)\n",
            "Requirement already satisfied: pyparsing==3.1.2 in /usr/local/lib/python3.11/dist-packages (from -r requirements.lock (line 93)) (3.1.2)\n",
            "Requirement already satisfied: python-dateutil==2.9.0.post0 in /usr/local/lib/python3.11/dist-packages (from -r requirements.lock (line 94)) (2.9.0.post0)\n",
            "Requirement already satisfied: pytz==2024.1 in /usr/local/lib/python3.11/dist-packages (from -r requirements.lock (line 95)) (2024.1)\n",
            "Requirement already satisfied: pyyaml==6.0.1 in /usr/local/lib/python3.11/dist-packages (from -r requirements.lock (line 96)) (6.0.1)\n",
            "Requirement already satisfied: pyzmq==26.0.3 in /usr/local/lib/python3.11/dist-packages (from -r requirements.lock (line 97)) (26.0.3)\n",
            "Requirement already satisfied: requests==2.31.0 in /usr/local/lib/python3.11/dist-packages (from -r requirements.lock (line 98)) (2.31.0)\n",
            "Requirement already satisfied: rich==13.7.1 in /usr/local/lib/python3.11/dist-packages (from -r requirements.lock (line 99)) (13.7.1)\n",
            "Requirement already satisfied: scipy==1.13.0 in /usr/local/lib/python3.11/dist-packages (from -r requirements.lock (line 100)) (1.13.0)\n",
            "Requirement already satisfied: sentry-sdk==2.12.0 in /usr/local/lib/python3.11/dist-packages (from -r requirements.lock (line 101)) (2.12.0)\n",
            "Requirement already satisfied: setproctitle==1.3.3 in /usr/local/lib/python3.11/dist-packages (from -r requirements.lock (line 102)) (1.3.3)\n",
            "Requirement already satisfied: six==1.16.0 in /usr/local/lib/python3.11/dist-packages (from -r requirements.lock (line 103)) (1.16.0)\n",
            "Requirement already satisfied: smmap==5.0.1 in /usr/local/lib/python3.11/dist-packages (from -r requirements.lock (line 104)) (5.0.1)\n",
            "Requirement already satisfied: stack-data==0.6.3 in /usr/local/lib/python3.11/dist-packages (from -r requirements.lock (line 105)) (0.6.3)\n",
            "Requirement already satisfied: sympy==1.12 in /usr/local/lib/python3.11/dist-packages (from -r requirements.lock (line 106)) (1.12)\n",
            "Requirement already satisfied: tensorstore==0.1.59 in /usr/local/lib/python3.11/dist-packages (from -r requirements.lock (line 107)) (0.1.59)\n",
            "Requirement already satisfied: tokenizers==0.19.1 in /usr/local/lib/python3.11/dist-packages (from -r requirements.lock (line 108)) (0.19.1)\n",
            "Requirement already satisfied: toolz==0.12.1 in /usr/local/lib/python3.11/dist-packages (from -r requirements.lock (line 109)) (0.12.1)\n",
            "Requirement already satisfied: torch==2.3.0 in /usr/local/lib/python3.11/dist-packages (from -r requirements.lock (line 110)) (2.3.0)\n",
            "Requirement already satisfied: tornado==6.4 in /usr/local/lib/python3.11/dist-packages (from -r requirements.lock (line 111)) (6.4)\n",
            "Requirement already satisfied: tqdm==4.66.4 in /usr/local/lib/python3.11/dist-packages (from -r requirements.lock (line 112)) (4.66.4)\n",
            "Requirement already satisfied: traitlets==5.14.3 in /usr/local/lib/python3.11/dist-packages (from -r requirements.lock (line 113)) (5.14.3)\n",
            "Requirement already satisfied: triton==2.3.0 in /usr/local/lib/python3.11/dist-packages (from -r requirements.lock (line 114)) (2.3.0)\n",
            "Requirement already satisfied: typing-extensions==4.11.0 in /usr/local/lib/python3.11/dist-packages (from -r requirements.lock (line 115)) (4.11.0)\n",
            "Requirement already satisfied: tzdata==2024.1 in /usr/local/lib/python3.11/dist-packages (from -r requirements.lock (line 116)) (2024.1)\n",
            "Requirement already satisfied: urllib3==2.2.1 in /usr/local/lib/python3.11/dist-packages (from -r requirements.lock (line 117)) (2.2.1)\n",
            "Requirement already satisfied: wandb==0.17.5 in /usr/local/lib/python3.11/dist-packages (from -r requirements.lock (line 118)) (0.17.5)\n",
            "Requirement already satisfied: wcwidth==0.2.13 in /usr/local/lib/python3.11/dist-packages (from -r requirements.lock (line 119)) (0.2.13)\n",
            "Requirement already satisfied: xxhash==3.4.1 in /usr/local/lib/python3.11/dist-packages (from -r requirements.lock (line 120)) (3.4.1)\n",
            "Requirement already satisfied: yarl==1.9.4 in /usr/local/lib/python3.11/dist-packages (from -r requirements.lock (line 121)) (1.9.4)\n",
            "Requirement already satisfied: zipp==3.18.1 in /usr/local/lib/python3.11/dist-packages (from -r requirements.lock (line 122)) (3.18.1)\n",
            "Requirement already satisfied: pip==24.0 in /usr/local/lib/python3.11/dist-packages (from -r requirements.lock (line 124)) (24.0)\n",
            "Requirement already satisfied: setuptools==72.1.0 in /usr/local/lib/python3.11/dist-packages (from -r requirements.lock (line 125)) (72.1.0)\n",
            "Building wheels for collected packages: jax-llm\n",
            "  Building editable for jax-llm (pyproject.toml) ... \u001b[?25l\u001b[?25hdone\n",
            "  Created wheel for jax-llm: filename=jax_llm-0.1.0-py3-none-any.whl size=4970 sha256=3e69cbd1d9daa967122a2a13990a0378f489c893708123358d6eb6cb707364ff\n",
            "  Stored in directory: /tmp/pip-ephem-wheel-cache-ocsx4k0t/wheels/97/54/f5/d849319cdfa096e074df352654ee2e7c919da8951f090690c6\n",
            "Successfully built jax-llm\n",
            "Installing collected packages: jax-llm\n",
            "  Attempting uninstall: jax-llm\n",
            "    Found existing installation: jax-llm 0.1.0\n",
            "    Uninstalling jax-llm-0.1.0:\n",
            "      Successfully uninstalled jax-llm-0.1.0\n",
            "Successfully installed jax-llm-0.1.0\n",
            "Requirement already satisfied: etils in /usr/local/lib/python3.11/dist-packages (1.8.0)\n",
            "Requirement already satisfied: datasets in /usr/local/lib/python3.11/dist-packages (2.19.1)\n",
            "Requirement already satisfied: filelock in /usr/local/lib/python3.11/dist-packages (from datasets) (3.14.0)\n",
            "Requirement already satisfied: numpy>=1.17 in /usr/local/lib/python3.11/dist-packages (from datasets) (1.26.4)\n",
            "Requirement already satisfied: pyarrow>=12.0.0 in /usr/local/lib/python3.11/dist-packages (from datasets) (16.0.0)\n",
            "Requirement already satisfied: pyarrow-hotfix in /usr/local/lib/python3.11/dist-packages (from datasets) (0.6)\n",
            "Requirement already satisfied: dill<0.3.9,>=0.3.0 in /usr/local/lib/python3.11/dist-packages (from datasets) (0.3.8)\n",
            "Requirement already satisfied: pandas in /usr/local/lib/python3.11/dist-packages (from datasets) (2.2.2)\n",
            "Requirement already satisfied: requests>=2.19.0 in /usr/local/lib/python3.11/dist-packages (from datasets) (2.31.0)\n",
            "Requirement already satisfied: tqdm>=4.62.1 in /usr/local/lib/python3.11/dist-packages (from datasets) (4.66.4)\n",
            "Requirement already satisfied: xxhash in /usr/local/lib/python3.11/dist-packages (from datasets) (3.4.1)\n",
            "Requirement already satisfied: multiprocess in /usr/local/lib/python3.11/dist-packages (from datasets) (0.70.16)\n",
            "Requirement already satisfied: fsspec<=2024.3.1,>=2023.1.0 in /usr/local/lib/python3.11/dist-packages (from fsspec[http]<=2024.3.1,>=2023.1.0->datasets) (2024.3.1)\n",
            "Requirement already satisfied: aiohttp in /usr/local/lib/python3.11/dist-packages (from datasets) (3.9.5)\n",
            "Requirement already satisfied: huggingface-hub>=0.21.2 in /usr/local/lib/python3.11/dist-packages (from datasets) (0.23.0)\n",
            "Requirement already satisfied: packaging in /usr/local/lib/python3.11/dist-packages (from datasets) (24.0)\n",
            "Requirement already satisfied: pyyaml>=5.1 in /usr/local/lib/python3.11/dist-packages (from datasets) (6.0.1)\n",
            "Requirement already satisfied: aiosignal>=1.1.2 in /usr/local/lib/python3.11/dist-packages (from aiohttp->datasets) (1.3.1)\n",
            "Requirement already satisfied: attrs>=17.3.0 in /usr/local/lib/python3.11/dist-packages (from aiohttp->datasets) (23.2.0)\n",
            "Requirement already satisfied: frozenlist>=1.1.1 in /usr/local/lib/python3.11/dist-packages (from aiohttp->datasets) (1.4.1)\n",
            "Requirement already satisfied: multidict<7.0,>=4.5 in /usr/local/lib/python3.11/dist-packages (from aiohttp->datasets) (6.0.5)\n",
            "Requirement already satisfied: yarl<2.0,>=1.0 in /usr/local/lib/python3.11/dist-packages (from aiohttp->datasets) (1.9.4)\n",
            "Requirement already satisfied: typing-extensions>=3.7.4.3 in /usr/local/lib/python3.11/dist-packages (from huggingface-hub>=0.21.2->datasets) (4.11.0)\n",
            "Requirement already satisfied: charset-normalizer<4,>=2 in /usr/local/lib/python3.11/dist-packages (from requests>=2.19.0->datasets) (3.3.2)\n",
            "Requirement already satisfied: idna<4,>=2.5 in /usr/local/lib/python3.11/dist-packages (from requests>=2.19.0->datasets) (3.7)\n",
            "Requirement already satisfied: urllib3<3,>=1.21.1 in /usr/local/lib/python3.11/dist-packages (from requests>=2.19.0->datasets) (2.2.1)\n",
            "Requirement already satisfied: certifi>=2017.4.17 in /usr/local/lib/python3.11/dist-packages (from requests>=2.19.0->datasets) (2024.2.2)\n",
            "Requirement already satisfied: python-dateutil>=2.8.2 in /usr/local/lib/python3.11/dist-packages (from pandas->datasets) (2.9.0.post0)\n",
            "Requirement already satisfied: pytz>=2020.1 in /usr/local/lib/python3.11/dist-packages (from pandas->datasets) (2024.1)\n",
            "Requirement already satisfied: tzdata>=2022.7 in /usr/local/lib/python3.11/dist-packages (from pandas->datasets) (2024.1)\n",
            "Requirement already satisfied: six>=1.5 in /usr/local/lib/python3.11/dist-packages (from python-dateutil>=2.8.2->pandas->datasets) (1.16.0)\n",
            "Requirement already satisfied: requests in /usr/local/lib/python3.11/dist-packages (2.31.0)\n",
            "Requirement already satisfied: charset-normalizer<4,>=2 in /usr/local/lib/python3.11/dist-packages (from requests) (3.3.2)\n",
            "Requirement already satisfied: idna<4,>=2.5 in /usr/local/lib/python3.11/dist-packages (from requests) (3.7)\n",
            "Requirement already satisfied: urllib3<3,>=1.21.1 in /usr/local/lib/python3.11/dist-packages (from requests) (2.2.1)\n",
            "Requirement already satisfied: certifi>=2017.4.17 in /usr/local/lib/python3.11/dist-packages (from requests) (2024.2.2)\n",
            "Requirement already satisfied: tiktoken in /usr/local/lib/python3.11/dist-packages (0.11.0)\n",
            "Requirement already satisfied: regex>=2022.1.18 in /usr/local/lib/python3.11/dist-packages (from tiktoken) (2025.7.34)\n",
            "Requirement already satisfied: requests>=2.26.0 in /usr/local/lib/python3.11/dist-packages (from tiktoken) (2.31.0)\n",
            "Requirement already satisfied: charset-normalizer<4,>=2 in /usr/local/lib/python3.11/dist-packages (from requests>=2.26.0->tiktoken) (3.3.2)\n",
            "Requirement already satisfied: idna<4,>=2.5 in /usr/local/lib/python3.11/dist-packages (from requests>=2.26.0->tiktoken) (3.7)\n",
            "Requirement already satisfied: urllib3<3,>=1.21.1 in /usr/local/lib/python3.11/dist-packages (from requests>=2.26.0->tiktoken) (2.2.1)\n",
            "Requirement already satisfied: certifi>=2017.4.17 in /usr/local/lib/python3.11/dist-packages (from requests>=2.26.0->tiktoken) (2024.2.2)\n",
            "Requirement already satisfied: jax in /usr/local/lib/python3.11/dist-packages (0.4.27)\n",
            "Requirement already satisfied: ml-dtypes>=0.2.0 in /usr/local/lib/python3.11/dist-packages (from jax) (0.3.2)\n",
            "Requirement already satisfied: numpy>=1.22 in /usr/local/lib/python3.11/dist-packages (from jax) (1.26.4)\n",
            "Requirement already satisfied: opt-einsum in /usr/local/lib/python3.11/dist-packages (from jax) (3.3.0)\n",
            "Requirement already satisfied: scipy>=1.9 in /usr/local/lib/python3.11/dist-packages (from jax) (1.13.0)\n"
          ]
        }
      ]
    },
    {
      "cell_type": "code",
      "source": [
        "!python /content/jax-llm/src/jax_llm/prepare_aozora.py --book_num 500"
      ],
      "metadata": {
        "colab": {
          "base_uri": "https://localhost:8080/"
        },
        "id": "BbHaq_MBRAgm",
        "outputId": "408cc31c-1ff3-4de2-d364-84a43aa4c3bd"
      },
      "execution_count": null,
      "outputs": [
        {
          "output_type": "stream",
          "name": "stdout",
          "text": [
            "500 books out of 10246 are used\n"
          ]
        }
      ]
    },
    {
      "cell_type": "code",
      "source": [
        "%env JAX_PLATFORMS=cpu\n",
        "!python /content/jax-llm/src/jax_llm/train_tokenizer.py --data_name \"aozora_500\""
      ],
      "metadata": {
        "colab": {
          "base_uri": "https://localhost:8080/"
        },
        "id": "fV-e4VuFRDXG",
        "outputId": "06bf7242-db89-4aa3-edb5-242a1952b9cc"
      },
      "execution_count": null,
      "outputs": [
        {
          "output_type": "stream",
          "name": "stdout",
          "text": [
            "env: JAX_PLATFORMS=cpu\n",
            "\u001b[2K[00:00:00] Tokenize words                 ██████████████████ 445294   /   445294\n",
            "\u001b[2K[00:00:04] Count pairs                    ██████████████████ 445294   /   445294\n",
            "\u001b[2K[00:13:51] Compute merges                 ██████████████████ 44891    /    44891\n",
            "Total tokens:  2978781\n"
          ]
        }
      ]
    },
    {
      "cell_type": "code",
      "source": [
        "%env JAX_PLATFORMS=tpu\n",
        "!pip uninstall -y jax jaxlib libtpu\n",
        "!pip install -U \"jax[tpu]==0.4.33\" -f https://storage.googleapis.com/jax-releases/libtpu_releases.html\n",
        "!python /content/jax-llm/src/jax_llm/train.py --data_name \"aozora_500\" --batch_size 32 --n_iterations 5000 --n_freq_eval 100 --dropout_rate 0.1 --learning_rate 0.001 --num_layers 12 --embed_size 512  --head_size 64 --num_heads 8 --block_size 256"
      ],
      "metadata": {
        "colab": {
          "base_uri": "https://localhost:8080/"
        },
        "id": "QEbaovmkRH77",
        "outputId": "532c31d0-2584-486d-a37f-ad9f419353ee"
      },
      "execution_count": null,
      "outputs": [
        {
          "output_type": "stream",
          "name": "stdout",
          "text": [
            "env: JAX_PLATFORMS=tpu\n",
            "Found existing installation: jax 0.4.33\n",
            "Uninstalling jax-0.4.33:\n",
            "  Successfully uninstalled jax-0.4.33\n",
            "Found existing installation: jaxlib 0.4.33\n",
            "Uninstalling jaxlib-0.4.33:\n",
            "  Successfully uninstalled jaxlib-0.4.33\n",
            "\u001b[33mWARNING: Skipping libtpu as it is not installed.\u001b[0m\u001b[33m\n",
            "\u001b[0mLooking in links: https://storage.googleapis.com/jax-releases/libtpu_releases.html\n",
            "Collecting jax==0.4.33 (from jax[tpu]==0.4.33)\n",
            "  Using cached jax-0.4.33-py3-none-any.whl.metadata (22 kB)\n",
            "Collecting jaxlib<=0.4.33,>=0.4.33 (from jax==0.4.33->jax[tpu]==0.4.33)\n",
            "  Using cached jaxlib-0.4.33-cp311-cp311-manylinux2014_x86_64.whl.metadata (983 bytes)\n",
            "Requirement already satisfied: ml-dtypes>=0.2.0 in /usr/local/lib/python3.11/dist-packages (from jax==0.4.33->jax[tpu]==0.4.33) (0.3.2)\n",
            "Requirement already satisfied: numpy>=1.24 in /usr/local/lib/python3.11/dist-packages (from jax==0.4.33->jax[tpu]==0.4.33) (1.26.4)\n",
            "Requirement already satisfied: opt-einsum in /usr/local/lib/python3.11/dist-packages (from jax==0.4.33->jax[tpu]==0.4.33) (3.3.0)\n",
            "Requirement already satisfied: scipy>=1.10 in /usr/local/lib/python3.11/dist-packages (from jax==0.4.33->jax[tpu]==0.4.33) (1.13.0)\n",
            "Requirement already satisfied: libtpu-nightly==0.1.dev20240916 in /usr/local/lib/python3.11/dist-packages (from jax[tpu]==0.4.33) (0.1.dev20240916+nightly)\n",
            "Requirement already satisfied: requests in /usr/local/lib/python3.11/dist-packages (from jax[tpu]==0.4.33) (2.31.0)\n",
            "Requirement already satisfied: charset-normalizer<4,>=2 in /usr/local/lib/python3.11/dist-packages (from requests->jax[tpu]==0.4.33) (3.3.2)\n",
            "Requirement already satisfied: idna<4,>=2.5 in /usr/local/lib/python3.11/dist-packages (from requests->jax[tpu]==0.4.33) (3.7)\n",
            "Requirement already satisfied: urllib3<3,>=1.21.1 in /usr/local/lib/python3.11/dist-packages (from requests->jax[tpu]==0.4.33) (2.2.1)\n",
            "Requirement already satisfied: certifi>=2017.4.17 in /usr/local/lib/python3.11/dist-packages (from requests->jax[tpu]==0.4.33) (2024.2.2)\n",
            "Using cached jax-0.4.33-py3-none-any.whl (2.1 MB)\n",
            "Using cached jaxlib-0.4.33-cp311-cp311-manylinux2014_x86_64.whl (85.1 MB)\n",
            "Installing collected packages: jaxlib, jax\n",
            "Successfully installed jax-0.4.33 jaxlib-0.4.33\n",
            "JAX running on TPU\n",
            "Tokenizer loaded\n",
            "Total number of parameters: 78_496_128\n",
            "  0% 0/5000 [00:00<?, ?it/s]Step: 0\t train loss: 11.306560516357422\t eval loss: 12.232803344726562\n",
            "  2% 100/5000 [00:51<19:09,  4.26it/s]Step: 100\t train loss: 8.70240592956543\t eval loss: 8.977355003356934\n",
            "  4% 200/5000 [01:14<18:44,  4.27it/s]Step: 200\t train loss: 8.419170379638672\t eval loss: 8.697219848632812\n",
            "  6% 300/5000 [01:38<18:18,  4.28it/s]Step: 300\t train loss: 8.130913734436035\t eval loss: 8.600341796875\n",
            "  8% 400/5000 [02:01<18:02,  4.25it/s]Step: 400\t train loss: 7.93731164932251\t eval loss: 8.411226272583008\n",
            " 10% 500/5000 [02:25<17:33,  4.27it/s]Step: 500\t train loss: 7.8411030769348145\t eval loss: 8.323522567749023\n",
            " 12% 600/5000 [02:48<17:11,  4.27it/s]Step: 600\t train loss: 7.633792877197266\t eval loss: 8.284192085266113\n",
            " 14% 700/5000 [03:12<16:46,  4.27it/s]Step: 700\t train loss: 7.420759677886963\t eval loss: 8.173081398010254\n",
            " 16% 800/5000 [03:35<16:25,  4.26it/s]Step: 800\t train loss: 7.3247294425964355\t eval loss: 8.12817096710205\n",
            " 18% 900/5000 [03:59<15:59,  4.27it/s]Step: 900\t train loss: 7.200903415679932\t eval loss: 8.133208274841309\n",
            " 20% 1000/5000 [04:22<15:37,  4.27it/s]Step: 1000\t train loss: 7.13161563873291\t eval loss: 8.07303524017334\n",
            " 22% 1100/5000 [04:46<15:13,  4.27it/s]Step: 1100\t train loss: 7.005900859832764\t eval loss: 8.031585693359375\n",
            "Overfitting detected, stopping training\n",
            " 22% 1100/5000 [04:47<16:57,  3.83it/s]\n",
            "Figure(640x480)\n",
            "Figure(640x480)\n",
            "雲の 羽 光線の 空へ 星の光 向直って 案 。 間 出 、 綾 雪 七 竹 十 瓜 檜 客が 降る 参 提 煽 玉の 鼻 はっと この 縁 餅 暖簾 、…… 誰か 私どもは 、 煙突 手が 折れ 尖って 大きい 甘 下りに 火箸 ばち 身を起して 呻吟 、 明い ちょうど 白い 板 にはならない 、 朝顔 、 これは 茂み のような 棒縞 、 一 雨は 、 背後 でござる 、 一番 では 、 学生 、 大 静な 乾 竹 そうさ 小 土間を 、 空に 揺れて 、 電燈が 紫 に 凜々しい 紅 橋が 面して 、 京人形 の白 柳 ・ 少しく ありました 。 で 、 青白い 気高い お婆さんが 中に 、 偏に 人家が 、 二重 ヶ 衣 をついた 、 グ にこそ 。 先祖 。 三 気高い ！ 堪らず 首を 敵に 朧 主人 。 真 潰れた 声 。 蝶 回向 崎 真先に 、 幾日 、 目の 病室の 日当 いに こ 艶 いを 御挨拶を 。 胡蝶 の 拳固 、 障子の 、 スカンポ 張の 雲の 那 、 紅 出された 。 風と 物見 、 大河 の前へ 、 こんな 証拠 と言えば 、 赤い しい 、 燈 の中 の前 見晴 つ 。 なり 。 チ ンド レル という処を 。」 十四 重に 羽 包 がありますから 、 その 柳 の影は 師匠 です 、 橋を渡る 我が 色の白 は 遁げて 、 お 手に 、 あれ 、 一町ばかり 枝を なりました 。 ふっと 呷 の出 くと 、 お召 のような 仮 菩提 、 一つ 替えて 、 二階から 。） いらっしゃいまし 。 僧都 、 春の 、 近所の 病 体 Ｂ 多く 、 太鼓 らしい 腰に 、 早や 裏 石の 高 にま 塵 のような 女房 ―― 小さな 崖 など 様の御 細目に 、 随分 太く 、 ぶるぶる 入ると 、 みだ 、 揃って と言う 事はない 細い 駈 水が けり 。 飛び つけて 居た 。 青竹 を出して 、 長い 上に 、 引 出していた が 、 その 吻と 搦んで 、 塗 、 そこへ とった 、 状 でないと 、 「 御坊 子の 半ば 。 もっとも 、 流れ ず 、 大 頭は 、 転んだ 目が 妖 に 尖 って 出 尖 、 村 様も 、 二階の 砕 らないで 、 山 吉 川の 白い 蛍 は 、 お 実 家の 獅子 向 の香 をしていて 、 きには 恥かしい 。 「 成程 母 だぜ 。」 と ますると 、 女中の 栗 は大 学者が 、 無理 いますか 。」 と嘲 がえ にして 、 薬 れて行く ような心持 だよ 。 近頃 五分 かい 、」 と 透いて 、 印 して 、 ゆっくり 上る のも 、 羽 位に 、 焼 込 しい 蝶吉の 頤 には 、 仰向けに 吊 を持った 坊ちゃ まる 、…… 多 家の 裾 の下で 井筒 の話が でありまする ねえ 、 「 へい 、 祖母 にゃ そうして しょんぼり 、 色白な のは 、 散 見せ ると 。」 それを 先生 ばかりは 漕ぎ 起 書 よ 、 あるいは こう 坊 婆 だから てら 、 例の 友だち 、 気味の悪い れども 、 御 紛 れます わね 、 額を 向直って 、 ぱっと 起きて 、 跨ぎ 、 座敷は 、 お 届け ますと 、 邪慳 。 えらい 空 折って 、 正の 、」 ですね 、 二人が 下 、 「 こうやって これから 落着いて 。―― あの 為めに 、 撲 しているんだ 、 恋の ―― ちゃんと 出来るだけ 考えると 、 状に 、 窓の外 、 枕許へ 飯 様のお 子 だという 、 陳 さん 。」 ここに 小児が 交渉 がましく ば と ようである 。 「 じゃあ 、 茫 ですこと 。」 「 何なの 、 逢いたい じゃないか 。 黒い 姿で 、 笹 子に 、 この 頬が 一倍 見えません 。 仁右衛門 、 私 によ いと でござります 、 一人の 褄 気が ぶ ものがあって 、 上 。 「 私には お 視 すと 、 「…… 傍へ 新たに 合わない 訳 でございました 。 一つ やは み ですが 、 窓 掻 込んで しまいました んでさ 。」 と 、 やっと 、 妙 を追って した のでありました 。―― そこは 顔を赧 んでも 湯殿 の中 がね 、 この辺 です よ 。 額の 口へ 、 永い 様に 引入れ うと 、 そのまま 、 いつの どこだ 。 一方は 馳走 なし だったのです ものはありませんでした のに 、 あなた 近 人も いう でありましょう 。―― そう思った でしょう 。」 しかし 、 お社 にも 行った 時に 、 一番 御 寄する 処へ 挘 ります と 、 それにも なくッて 、 ばたばたと 、 釣 かせ そうに 、 そして 浜 へ帰 りました のは 、」 と ドンドン 、 どのくらい 人は 様 はお 身体 でした 。 それも 相変らず 、 起ち 出した 学校 を手 案内の あなた方の 可笑 そうに 真 水 の上 にか という 黒髪に 、 実 われても 、 夢にも いわれて 、 まだしも がお 支度 。―― 蕎麦 を見るように 、 白い 空に 、 横 銜 ったから 、 大きな 空 だけれども 、 赤い くだ 筈 のは 、 この 小さな 異 され 、 幼児 は 、 皆 山 かの ぱ が 拝 みを 、 あわれ づ れた と思いねえ 。 ああ 、 この 菅 辞儀 しなかった のじゃ で 江戸 でも あります けれども 、 荘 堂 ばかり ぞ 、 お 召 のめ いましょう 。 「 では 知りません 。 猿 をつけて 下さる ように ―― （ しかし 威勢よく 恥かし んでいた ものですね 、 肥った 、 それは 、 総 桂 ズ にも 夜 でございました 。 そのかわり 、 紋の 骨も 懣 ぐ 、 この 寺 敷 かど 物だ 、 そう云う のに相違ない の 月が 歩み かえ しました 。 すると 、 くるくると 、 灯の をも さる ものを 、 大紅蓮 のに 、 一分 を見ていた ようです 。 蝶吉は 、 居ても いって 、 誠 さえ べれ いた 、 誰 なんか 。 鰻 は 、 あの 、 というと 、 今日は そちら も 頷く のは 、 怪 まって 見ると 、 姪 も 、 ひら 湧いた 、 とまた 従 わる 、 誰 がります 。 それから 、 恋 だけに 、 かえって 憎悪 が 、 です 。 「 最早 心に 、 意味ありげに 思われた のでございます 。」 「 七 月 達 などを 聞いた 、 母衣 はありません 。 金色の 結綿 の 結んだ 処 があり 、 「 もし にその 底から 、 念のために 聞 込み まいか 、 往来の 教授 の名 泰 端折 、 お笑い でた と思う 。 木賃 檀那 、 十ウ も 、 蟹五郎 御 、 ことでございます 。 そのまま 案 をひ とう ッて 、 伯爵は 突立って 、 火の 母さんが 返事 になった だろうね 。 乗 うと 堪らず 、 噪 も 、 蕎麦 、 姉さん の御 顕る 。」 と云 われて 泳ぐ に 、 煩 みました のも 、 丁寧に ふるえる 了簡 を煽 ったが 、―― これが 出来た のよ 。…… お 土瓶 を出して 、 はっと つかまった もんですから 、 お連れ たまえ 。 「 はい 、 とに角 、 同じ ものの 間違 ってね\n",
            "Params stored\n"
          ]
        }
      ]
    },
    {
      "cell_type": "code",
      "source": [
        "!python /content/jax-llm/src/jax_llm/generate.py --prompt \"あなたは誰？\" --data_name \"aozora_500\" --max_new_tokens 200"
      ],
      "metadata": {
        "colab": {
          "base_uri": "https://localhost:8080/"
        },
        "id": "hHiTegiERNFJ",
        "outputId": "040dbc67-9a6d-4454-e05f-eb72f0c4cb00"
      },
      "execution_count": null,
      "outputs": [
        {
          "output_type": "stream",
          "name": "stdout",
          "text": [
            "Output: あなたは 誰 ？ しかし 、 これは 、 それから 、 それは その 御 「 さ え 、 「 お 、 ね 、 あの 、 （ で 、 あの 、 それ 、 しかし 、 いつも あの 、 その 大きな 大きい 「 これは 「 その この 、 、 この あの この 男 、 お さ 、 と 、 その 、 これは 、 この 「 それ な 。 「 じゃ 。 御 いう 。 その 、 この 、 もう 、 私 、 「 その その 大 、 と あの 、 この この あの 本 人の 、 これは この その 人間 である 。 私は 今日 の 大 人の 、 その 一 、 人 、 その 事を 、 また 、 あの 、 あの 大 その 、 それ 、 その 、 それから 、 まず その 人の 熱 な 、 私は また 、 その 、 その この 人間 を 、 その もの 、 ただ 、 、 ただ 、 お で 、 その もの 、 この 「 （ あの あの 、 と 、 その 、 で 、 お この この 人の 二つの 、 その 、 その 「 の 人 。 しかし 、 そんな 、 その こと 、 「 が 、 御 、 もの 、 、 ただ 、 やがて 、 小 夜 。\n"
          ]
        }
      ]
    },
    {
      "cell_type": "code",
      "source": [
        "!python /content/jax-llm/src/jax_llm/generate.py --prompt \"吾輩は猫で\" --data_name \"aozora_500\" --max_new_tokens 200"
      ],
      "metadata": {
        "colab": {
          "base_uri": "https://localhost:8080/"
        },
        "id": "cbUkfXFmZv0T",
        "outputId": "ed35d7a5-559d-4322-e3ec-e978d61fcd23"
      },
      "execution_count": null,
      "outputs": [
        {
          "output_type": "stream",
          "name": "stdout",
          "text": [
            "Output: 吾 輩は 猫 で 、 、 お 、 が 、 お 顔を 返して 、 じっと その 事は 、 「 まず 、 また 、 、 その その 、 あの 、 それ のお 、 その 御 、 私は その 人間 なら 、 人間 とは 、 この 、 、 この 、 この 、 、 お その と 、 その 美しい 、 と 、 この 「 それ 。」 と 、 「 おお 。 お お 胸 、 、 もう 、 さ 。 いや 、 お前 だけ 、 あの 、 あの 、 この この 人の 新しい その 、 これは 、 その 御 本 した 、 一 歩 に 、 その 声 、 また 、 この その 「 この 、 ―― あの 、 と 大 天 歩 、 小 谷 や 。 と 、 その 人の 事は 、 、 私は また 、 その 、 その この 人間 、 あの 、 その お 髪 、 、 と 、 お 白い 処へ 、 ね 、 この 御 、 あの あの 、 と 、 その 夜 で 、 と 、 この 人の 言葉 にも 、 それでも そこに 、 一 道を 来る 時 、 、 それ にも 、 お 、 一 歩 の 、 御 、 で 、 この 一 勢 、 その 山\n"
          ]
        }
      ]
    },
    {
      "cell_type": "code",
      "source": [
        "!python /content/jax-llm/src/jax_llm/generate.py --prompt \"昔々あるところに、\" --data_name \"aozora_500\" --max_new_tokens 200"
      ],
      "metadata": {
        "colab": {
          "base_uri": "https://localhost:8080/"
        },
        "id": "OkvoPEMeZ8Ty",
        "outputId": "49d0d0ce-4c02-42b1-eabd-663d58efc2e9"
      },
      "execution_count": null,
      "outputs": [
        {
          "output_type": "stream",
          "name": "stdout",
          "text": [
            "Output: 昔 々 ある ところに 、 一 足 、 やがて 、 この 、 その 白 、 その その 小さな の 、 「 が 、 あの 、 それも 、 その 女の 、 それ 、 お した 、 あの 、 その 弟 の 、 が 、 その この 大きな 、 この あの この 男 、 私 。」 と 、 「 その 、 大きな 、 お 「 さん 。」 「 と 、 「 御 、 御 。 だから 、 もう 。」 「 だって ね 。」 「 ねえ 、 私 、 あの 、 この この あの 小さな 靴 、 赤い 、 いつか 、 まだ 御 ―― この それ 、 まず 、 何 …… ―― 人 だ 。 「 何 。 ええ 、 ええ 、 御 無い 、 それ 、 その 、 それから 、 私の その 天 の 御 、 ある 、 あの 、 あの その 、 その 目 目 ばかり 、 この 、 あの 、 私の 、 お お その その ね 、 どうして 、 （ あの あの 、 と 、 その 、 まだ 、 それ 、 この 人の 人の 事は 、 また その 男 の 。 一 言 の 、 その 小 白い 、 「 が 、 その の ？」 「 で 、 この もの では 、 その 「\n"
          ]
        }
      ]
    }
  ]
}